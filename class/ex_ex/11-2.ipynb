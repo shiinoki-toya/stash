{
 "cells": [
  {
   "cell_type": "code",
   "execution_count": 3,
   "metadata": {},
   "outputs": [
    {
     "ename": "ModuleNotFoundError",
     "evalue": "No module named 'sklearn'",
     "output_type": "error",
     "traceback": [
      "\u001b[0;31m---------------------------------------------------------------------------\u001b[0m",
      "\u001b[0;31mModuleNotFoundError\u001b[0m                       Traceback (most recent call last)",
      "Cell \u001b[0;32mIn[3], line 3\u001b[0m\n\u001b[1;32m      1\u001b[0m \u001b[39mimport\u001b[39;00m \u001b[39mmatplotlib\u001b[39;00m\u001b[39m.\u001b[39;00m\u001b[39mpyplot\u001b[39;00m \u001b[39mas\u001b[39;00m \u001b[39mplt\u001b[39;00m\n\u001b[1;32m      2\u001b[0m \u001b[39mimport\u001b[39;00m \u001b[39mnumpy\u001b[39;00m \u001b[39mas\u001b[39;00m \u001b[39mnp\u001b[39;00m\n\u001b[0;32m----> 3\u001b[0m \u001b[39mfrom\u001b[39;00m \u001b[39msklearn\u001b[39;00m\u001b[39m.\u001b[39;00m\u001b[39mneural_network\u001b[39;00m \u001b[39mimport\u001b[39;00m MLPClassifier\n\u001b[1;32m      4\u001b[0m \u001b[39mfrom\u001b[39;00m \u001b[39msklearn\u001b[39;00m\u001b[39m.\u001b[39;00m\u001b[39mmodel_selection\u001b[39;00m \u001b[39mimport\u001b[39;00m train_test_split\n\u001b[1;32m      5\u001b[0m \u001b[39mfrom\u001b[39;00m \u001b[39msklearn\u001b[39;00m\u001b[39m.\u001b[39;00m\u001b[39mdatasets\u001b[39;00m \u001b[39mimport\u001b[39;00m make_moons\n",
      "\u001b[0;31mModuleNotFoundError\u001b[0m: No module named 'sklearn'"
     ]
    }
   ],
   "source": [
    "import matplotlib.pyplot as plt\n",
    "import numpy as np\n",
    "from sklearn.neural_network import MLPClassifier\n",
    "from sklearn.model_selection import train_test_split\n",
    "from sklearn.datasets import make_moons\n",
    "\n",
    "from matplotlib.colors import ListedColormap\n",
    "from sklearn.metrics import accuracy_score\n",
    "import mglearn\n",
    "\n",
    "# 学習データの生成\n",
    "n=30\n",
    "\n",
    "x1=np.random.rand(n)*2-0.5\n",
    "y1=np.random.rand(n)*2+0.5\n",
    "z1=np.zeros(n)+1\n",
    "x2=np.random.rand(n)*2+0.5\n",
    "y2=np.random.rand(n)*2-0.5\n",
    "z2=np.zeros(n)-1\n",
    "\n",
    "data=np.zeros((n*2,3))\n",
    "data[0:n,0]=x1\n",
    "data[0:n,1]=y1\n",
    "data[0:n,2]=0\n",
    "data[n:n*2,0]=x2\n",
    "data[n:n*2,1]=y2\n",
    "data[n:n*2,2]=1\n",
    "\n",
    "mlp = MLPClassifier(hidden_layer_sizes=(5), max_iter = 200000)\n",
    "mlp.fit(data[:,0:2], data[:,2])\n",
    "\n",
    "\n",
    "# 描画\n",
    "plt.figure(figsize=(12, 8))\n",
    "_x1 = np.linspace(data[:, 0].min() - 0.5, data[:, 0].max() + 0.5, 100)\n",
    "_x2 = np.linspace(data[:, 1].min() - 0.5, data[:, 1].max() + 0.5, 100)\n",
    "x1, x2 = np.meshgrid(_x1, _x2)\n",
    "X_stack = np.hstack((x1.ravel().reshape(-1, 1), x2.ravel().reshape(-1, 1)))\n",
    "\n",
    "y_pred = mlp.predict(X_stack).reshape(x1.shape)\n",
    "custom_cmap = ListedColormap(['mediumblue', 'orangered'])\n",
    "plt.contourf(x1, x2, y_pred, alpha=0.3, cmap=custom_cmap)\n",
    "mglearn.discrete_scatter(data[:,0],data[:,1], data[:,2])\n",
    "plt.show()"
   ]
  }
 ],
 "metadata": {
  "kernelspec": {
   "display_name": "Python 3.10.6 64-bit",
   "language": "python",
   "name": "python3"
  },
  "language_info": {
   "codemirror_mode": {
    "name": "ipython",
    "version": 3
   },
   "file_extension": ".py",
   "mimetype": "text/x-python",
   "name": "python",
   "nbconvert_exporter": "python",
   "pygments_lexer": "ipython3",
   "version": "3.10.6"
  },
  "orig_nbformat": 4,
  "vscode": {
   "interpreter": {
    "hash": "916dbcbb3f70747c44a77c7bcd40155683ae19c65e1c03b4aa3499c5328201f1"
   }
  }
 },
 "nbformat": 4,
 "nbformat_minor": 2
}
